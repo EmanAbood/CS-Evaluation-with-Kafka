{
 "cells": [
  {
   "cell_type": "code",
   "execution_count": 165,
   "id": "f7ebc618",
   "metadata": {},
   "outputs": [],
   "source": [
    "from kafka import KafkaConsumer\n",
    "import pandas as pd\n",
    "import joblib\n",
    "from sklearn.metrics import accuracy_score,recall_score,f1_score\n",
    "from sklearn.pipeline import Pipeline\n",
    "from sklearn.preprocessing import StandardScaler\n",
    "from sklearn.decomposition import PCA\n",
    "from sklearn.linear_model import LogisticRegression\n",
    "from sklearn.tree import DecisionTreeClassifier\n",
    "from sklearn.model_selection import train_test_split\n",
    "from sklearn.feature_selection import mutual_info_classif\n",
    "from sklearn.feature_selection import SelectKBest\n",
    "from sklearn.tree import DecisionTreeClassifier\n",
    "import matplotlib.pyplot as plt"
   ]
  },
  {
   "cell_type": "code",
   "execution_count": 166,
   "id": "08b7639a",
   "metadata": {},
   "outputs": [],
   "source": [
    "consumer = KafkaConsumer(\n",
    "    'ml-raw-dns',\n",
    "    bootstrap_servers=\"localhost:9092\",\n",
    "    auto_offset_reset='earliest',\n",
    "    enable_auto_commit=False\n",
    ")\n"
   ]
  },
  {
   "cell_type": "code",
   "execution_count": 167,
   "id": "20a373d8",
   "metadata": {},
   "outputs": [],
   "source": [
    "for m in consumer:\n",
    "    dd = m.value\n",
    "    break"
   ]
  },
  {
   "cell_type": "code",
   "execution_count": 168,
   "id": "8111acaa",
   "metadata": {},
   "outputs": [],
   "source": [
    "k_dataset= pd.read_csv(\"Static_dataset.csv\")\n",
    "from pandas.util import hash_pandas_object\n",
    "categoric = k_dataset.select_dtypes(include=['object']).copy()\n",
    "numerical = k_dataset.select_dtypes(include=['int64','float64']).copy()\n",
    "def hashing(df):\n",
    "    for col in df.columns :\n",
    "        df[col] = hash_pandas_object(df[col])\n",
    "    return df\n",
    "categoric = hashing(categoric)\n",
    "k_dataset=pd.concat([categoric,numerical],axis=1)"
   ]
  },
  {
   "cell_type": "code",
   "execution_count": 169,
   "id": "23eefce0",
   "metadata": {},
   "outputs": [
    {
     "data": {
      "text/html": [
       "<div>\n",
       "<style scoped>\n",
       "    .dataframe tbody tr th:only-of-type {\n",
       "        vertical-align: middle;\n",
       "    }\n",
       "\n",
       "    .dataframe tbody tr th {\n",
       "        vertical-align: top;\n",
       "    }\n",
       "\n",
       "    .dataframe thead th {\n",
       "        text-align: right;\n",
       "    }\n",
       "</style>\n",
       "<table border=\"1\" class=\"dataframe\">\n",
       "  <thead>\n",
       "    <tr style=\"text-align: right;\">\n",
       "      <th></th>\n",
       "      <th>timestamp</th>\n",
       "      <th>longest_word</th>\n",
       "      <th>sld</th>\n",
       "      <th>FQDN_count</th>\n",
       "      <th>subdomain_length</th>\n",
       "      <th>upper</th>\n",
       "      <th>lower</th>\n",
       "      <th>numeric</th>\n",
       "      <th>entropy</th>\n",
       "      <th>special</th>\n",
       "      <th>labels</th>\n",
       "      <th>labels_max</th>\n",
       "      <th>labels_average</th>\n",
       "      <th>len</th>\n",
       "      <th>subdomain</th>\n",
       "      <th>Target Attack</th>\n",
       "    </tr>\n",
       "  </thead>\n",
       "  <tbody>\n",
       "    <tr>\n",
       "      <th>0</th>\n",
       "      <td>13143242955146178578</td>\n",
       "      <td>12818595333635098865</td>\n",
       "      <td>1436061903013436886</td>\n",
       "      <td>27</td>\n",
       "      <td>10</td>\n",
       "      <td>0</td>\n",
       "      <td>10</td>\n",
       "      <td>11</td>\n",
       "      <td>2.570417</td>\n",
       "      <td>6</td>\n",
       "      <td>6</td>\n",
       "      <td>7</td>\n",
       "      <td>3.666667</td>\n",
       "      <td>14</td>\n",
       "      <td>1</td>\n",
       "      <td>1</td>\n",
       "    </tr>\n",
       "    <tr>\n",
       "      <th>1</th>\n",
       "      <td>2577386964918736430</td>\n",
       "      <td>17185745172638414508</td>\n",
       "      <td>16487103021445981531</td>\n",
       "      <td>27</td>\n",
       "      <td>10</td>\n",
       "      <td>0</td>\n",
       "      <td>10</td>\n",
       "      <td>11</td>\n",
       "      <td>2.767195</td>\n",
       "      <td>6</td>\n",
       "      <td>6</td>\n",
       "      <td>7</td>\n",
       "      <td>3.666667</td>\n",
       "      <td>14</td>\n",
       "      <td>1</td>\n",
       "      <td>1</td>\n",
       "    </tr>\n",
       "    <tr>\n",
       "      <th>2</th>\n",
       "      <td>219530798504705711</td>\n",
       "      <td>17979476933330425403</td>\n",
       "      <td>8782042356081258380</td>\n",
       "      <td>26</td>\n",
       "      <td>9</td>\n",
       "      <td>0</td>\n",
       "      <td>10</td>\n",
       "      <td>10</td>\n",
       "      <td>2.742338</td>\n",
       "      <td>6</td>\n",
       "      <td>6</td>\n",
       "      <td>7</td>\n",
       "      <td>3.500000</td>\n",
       "      <td>13</td>\n",
       "      <td>1</td>\n",
       "      <td>0</td>\n",
       "    </tr>\n",
       "    <tr>\n",
       "      <th>3</th>\n",
       "      <td>2202385798199089757</td>\n",
       "      <td>8625786489483146881</td>\n",
       "      <td>14213111700542671718</td>\n",
       "      <td>27</td>\n",
       "      <td>10</td>\n",
       "      <td>0</td>\n",
       "      <td>10</td>\n",
       "      <td>11</td>\n",
       "      <td>2.570417</td>\n",
       "      <td>6</td>\n",
       "      <td>6</td>\n",
       "      <td>7</td>\n",
       "      <td>3.666667</td>\n",
       "      <td>14</td>\n",
       "      <td>1</td>\n",
       "      <td>1</td>\n",
       "    </tr>\n",
       "    <tr>\n",
       "      <th>4</th>\n",
       "      <td>13599999059469247330</td>\n",
       "      <td>6933423371777200487</td>\n",
       "      <td>6933423371777200487</td>\n",
       "      <td>15</td>\n",
       "      <td>9</td>\n",
       "      <td>0</td>\n",
       "      <td>11</td>\n",
       "      <td>0</td>\n",
       "      <td>2.929439</td>\n",
       "      <td>4</td>\n",
       "      <td>3</td>\n",
       "      <td>5</td>\n",
       "      <td>4.333333</td>\n",
       "      <td>15</td>\n",
       "      <td>1</td>\n",
       "      <td>1</td>\n",
       "    </tr>\n",
       "    <tr>\n",
       "      <th>...</th>\n",
       "      <td>...</td>\n",
       "      <td>...</td>\n",
       "      <td>...</td>\n",
       "      <td>...</td>\n",
       "      <td>...</td>\n",
       "      <td>...</td>\n",
       "      <td>...</td>\n",
       "      <td>...</td>\n",
       "      <td>...</td>\n",
       "      <td>...</td>\n",
       "      <td>...</td>\n",
       "      <td>...</td>\n",
       "      <td>...</td>\n",
       "      <td>...</td>\n",
       "      <td>...</td>\n",
       "      <td>...</td>\n",
       "    </tr>\n",
       "    <tr>\n",
       "      <th>268069</th>\n",
       "      <td>4635147120335315575</td>\n",
       "      <td>17593087732653107179</td>\n",
       "      <td>1074112825213617825</td>\n",
       "      <td>18</td>\n",
       "      <td>3</td>\n",
       "      <td>0</td>\n",
       "      <td>16</td>\n",
       "      <td>0</td>\n",
       "      <td>2.338623</td>\n",
       "      <td>2</td>\n",
       "      <td>3</td>\n",
       "      <td>10</td>\n",
       "      <td>5.333333</td>\n",
       "      <td>14</td>\n",
       "      <td>1</td>\n",
       "      <td>0</td>\n",
       "    </tr>\n",
       "    <tr>\n",
       "      <th>268070</th>\n",
       "      <td>694724741529077594</td>\n",
       "      <td>6543177446356295113</td>\n",
       "      <td>11629204487744685214</td>\n",
       "      <td>27</td>\n",
       "      <td>10</td>\n",
       "      <td>0</td>\n",
       "      <td>10</td>\n",
       "      <td>11</td>\n",
       "      <td>2.767195</td>\n",
       "      <td>6</td>\n",
       "      <td>6</td>\n",
       "      <td>7</td>\n",
       "      <td>3.666667</td>\n",
       "      <td>14</td>\n",
       "      <td>1</td>\n",
       "      <td>0</td>\n",
       "    </tr>\n",
       "    <tr>\n",
       "      <th>268071</th>\n",
       "      <td>13076708599487200848</td>\n",
       "      <td>1392224066739923824</td>\n",
       "      <td>11214114670944286487</td>\n",
       "      <td>27</td>\n",
       "      <td>10</td>\n",
       "      <td>0</td>\n",
       "      <td>10</td>\n",
       "      <td>11</td>\n",
       "      <td>2.767195</td>\n",
       "      <td>6</td>\n",
       "      <td>6</td>\n",
       "      <td>7</td>\n",
       "      <td>3.666667</td>\n",
       "      <td>14</td>\n",
       "      <td>1</td>\n",
       "      <td>1</td>\n",
       "    </tr>\n",
       "    <tr>\n",
       "      <th>268072</th>\n",
       "      <td>4906493388405613576</td>\n",
       "      <td>6819429491188426835</td>\n",
       "      <td>10122129679838215532</td>\n",
       "      <td>16</td>\n",
       "      <td>0</td>\n",
       "      <td>0</td>\n",
       "      <td>14</td>\n",
       "      <td>0</td>\n",
       "      <td>3.249687</td>\n",
       "      <td>2</td>\n",
       "      <td>2</td>\n",
       "      <td>13</td>\n",
       "      <td>7.500000</td>\n",
       "      <td>14</td>\n",
       "      <td>0</td>\n",
       "      <td>0</td>\n",
       "    </tr>\n",
       "    <tr>\n",
       "      <th>268073</th>\n",
       "      <td>1879666951771324058</td>\n",
       "      <td>11838724557947676253</td>\n",
       "      <td>8631997503243294282</td>\n",
       "      <td>27</td>\n",
       "      <td>10</td>\n",
       "      <td>0</td>\n",
       "      <td>10</td>\n",
       "      <td>11</td>\n",
       "      <td>2.570417</td>\n",
       "      <td>6</td>\n",
       "      <td>6</td>\n",
       "      <td>7</td>\n",
       "      <td>3.666667</td>\n",
       "      <td>14</td>\n",
       "      <td>1</td>\n",
       "      <td>1</td>\n",
       "    </tr>\n",
       "  </tbody>\n",
       "</table>\n",
       "<p>268074 rows × 16 columns</p>\n",
       "</div>"
      ],
      "text/plain": [
       "                   timestamp          longest_word                   sld  \\\n",
       "0       13143242955146178578  12818595333635098865   1436061903013436886   \n",
       "1        2577386964918736430  17185745172638414508  16487103021445981531   \n",
       "2         219530798504705711  17979476933330425403   8782042356081258380   \n",
       "3        2202385798199089757   8625786489483146881  14213111700542671718   \n",
       "4       13599999059469247330   6933423371777200487   6933423371777200487   \n",
       "...                      ...                   ...                   ...   \n",
       "268069   4635147120335315575  17593087732653107179   1074112825213617825   \n",
       "268070    694724741529077594   6543177446356295113  11629204487744685214   \n",
       "268071  13076708599487200848   1392224066739923824  11214114670944286487   \n",
       "268072   4906493388405613576   6819429491188426835  10122129679838215532   \n",
       "268073   1879666951771324058  11838724557947676253   8631997503243294282   \n",
       "\n",
       "        FQDN_count  subdomain_length  upper  lower  numeric   entropy  \\\n",
       "0               27                10      0     10       11  2.570417   \n",
       "1               27                10      0     10       11  2.767195   \n",
       "2               26                 9      0     10       10  2.742338   \n",
       "3               27                10      0     10       11  2.570417   \n",
       "4               15                 9      0     11        0  2.929439   \n",
       "...            ...               ...    ...    ...      ...       ...   \n",
       "268069          18                 3      0     16        0  2.338623   \n",
       "268070          27                10      0     10       11  2.767195   \n",
       "268071          27                10      0     10       11  2.767195   \n",
       "268072          16                 0      0     14        0  3.249687   \n",
       "268073          27                10      0     10       11  2.570417   \n",
       "\n",
       "        special  labels  labels_max  labels_average  len  subdomain  \\\n",
       "0             6       6           7        3.666667   14          1   \n",
       "1             6       6           7        3.666667   14          1   \n",
       "2             6       6           7        3.500000   13          1   \n",
       "3             6       6           7        3.666667   14          1   \n",
       "4             4       3           5        4.333333   15          1   \n",
       "...         ...     ...         ...             ...  ...        ...   \n",
       "268069        2       3          10        5.333333   14          1   \n",
       "268070        6       6           7        3.666667   14          1   \n",
       "268071        6       6           7        3.666667   14          1   \n",
       "268072        2       2          13        7.500000   14          0   \n",
       "268073        6       6           7        3.666667   14          1   \n",
       "\n",
       "        Target Attack  \n",
       "0                   1  \n",
       "1                   1  \n",
       "2                   0  \n",
       "3                   1  \n",
       "4                   1  \n",
       "...               ...  \n",
       "268069              0  \n",
       "268070              0  \n",
       "268071              1  \n",
       "268072              0  \n",
       "268073              1  \n",
       "\n",
       "[268074 rows x 16 columns]"
      ]
     },
     "execution_count": 169,
     "metadata": {},
     "output_type": "execute_result"
    }
   ],
   "source": [
    "k_dataset"
   ]
  },
  {
   "cell_type": "code",
   "execution_count": 170,
   "id": "e9a8a80f",
   "metadata": {},
   "outputs": [
    {
     "name": "stdout",
     "output_type": "stream",
     "text": [
      "<class 'pandas.core.frame.DataFrame'>\n",
      "RangeIndex: 268074 entries, 0 to 268073\n",
      "Data columns (total 16 columns):\n",
      " #   Column            Non-Null Count   Dtype  \n",
      "---  ------            --------------   -----  \n",
      " 0   timestamp         268074 non-null  uint64 \n",
      " 1   longest_word      268074 non-null  uint64 \n",
      " 2   sld               268074 non-null  uint64 \n",
      " 3   FQDN_count        268074 non-null  int64  \n",
      " 4   subdomain_length  268074 non-null  int64  \n",
      " 5   upper             268074 non-null  int64  \n",
      " 6   lower             268074 non-null  int64  \n",
      " 7   numeric           268074 non-null  int64  \n",
      " 8   entropy           268074 non-null  float64\n",
      " 9   special           268074 non-null  int64  \n",
      " 10  labels            268074 non-null  int64  \n",
      " 11  labels_max        268074 non-null  int64  \n",
      " 12  labels_average    268074 non-null  float64\n",
      " 13  len               268074 non-null  int64  \n",
      " 14  subdomain         268074 non-null  int64  \n",
      " 15  Target Attack     268074 non-null  int64  \n",
      "dtypes: float64(2), int64(11), uint64(3)\n",
      "memory usage: 32.7 MB\n"
     ]
    }
   ],
   "source": [
    "k_dataset.info()"
   ]
  },
  {
   "cell_type": "code",
   "execution_count": 171,
   "id": "e41d98b6",
   "metadata": {},
   "outputs": [],
   "source": [
    "def get_1000_record(itr):\n",
    "    list_with_1000_record=[]\n",
    "    i=0\n",
    "    for m in consumer:\n",
    "        \n",
    "        if i <1000:\n",
    "            #print(f\"recored {i+1} :\", m.value)\n",
    "            list_with_1000_record.append(m.value)\n",
    "            i=i+1\n",
    "        else:\n",
    "            break\n",
    "    print(f\"Window {itr}\")\n",
    "    return list_with_1000_record              \n",
    "    "
   ]
  },
  {
   "cell_type": "code",
   "execution_count": 172,
   "id": "839defe5",
   "metadata": {},
   "outputs": [],
   "source": [
    "column_names =[\"timestamp\",\"FQDN_count\",\"subdomain_length\",\"upper\",\"lower\",\"numeric\",\"entropy\",\"special\",\"labels\",\"labels_max\",\"labels_average\",\"longest_word\",\"sld\",\"len\",\"subdomain\",\"Target Attack\"]\n",
    "def prepare_data( data):\n",
    "    df=pd.DataFrame()\n",
    "    list_of_row=[]\n",
    "    for item in data:\n",
    "        row_string=eval(item.decode(\"UTF-8\"))\n",
    "        row_string = row_string.strip()\n",
    "        row= row_string.split(\",\")\n",
    "        list_of_row.append(row)\n",
    "    df=pd.DataFrame(list_of_row)\n",
    "    df.columns=column_names\n",
    "    return df\n",
    "    "
   ]
  },
  {
   "cell_type": "code",
   "execution_count": 173,
   "id": "9ec2632d",
   "metadata": {},
   "outputs": [],
   "source": [
    "def data_cleaning(data):\n",
    "    data['longest_word'] = data['longest_word'].replace(r'(([a-z]+)|([A-Z]+)|'')',2, regex=True)\n",
    "    data['longest_word'].fillna(2,inplace=True)\n",
    "    data['sld'] = data['sld'].replace(r'(([a-z]+)|([A-Z]+|(0-1)))',192, regex=True)\n",
    "    data['sld']=data['sld'] .astype('int') \n",
    "#     data[['FQDN_count','subdomain_length']] = data[['FQDN_count','subdomain_length']].replace(r'(([a-z]+)|([A-Z]+)|'')',2, regex=True)\n",
    "    data.drop('timestamp', inplace=True, axis=1)\n",
    "    return data.astype('float')"
   ]
  },
  {
   "cell_type": "code",
   "execution_count": 174,
   "id": "97837513",
   "metadata": {},
   "outputs": [],
   "source": [
    "def retrain_model(data):\n",
    "    X= data.iloc[:,:-1]\n",
    "    y= data.iloc[:,-1]\n",
    "    X = scaler.fit_transform(X)\n",
    "    X_train, X_test, y_train, y_test = train_test_split(X, y, test_size=0.3, random_state=42,shuffle=False)\n",
    "    X_train_MI, X_test_MI=select_mutual_info(X_train, y_train, X_test)\n",
    "    model = DecisionTreeClassifier()\n",
    "    model.fit(X_train_MI, y_train)\n",
    "\n",
    "    return model"
   ]
  },
  {
   "cell_type": "code",
   "execution_count": 175,
   "id": "41326477",
   "metadata": {},
   "outputs": [],
   "source": [
    "def select_mutual_info(X_train, y_train, X_test):\n",
    "    feature_selection = SelectKBest(score_func=mutual_info_classif, k=10)\n",
    "    feature_selection.fit(X_train, y_train)\n",
    "    X_train_MI = feature_selection.transform(X_train)\n",
    "    X_test_MI = feature_selection.transform(X_test)\n",
    "    return X_train_MI, X_test_MI\n"
   ]
  },
  {
   "cell_type": "code",
   "execution_count": null,
   "id": "4039568b",
   "metadata": {},
   "outputs": [],
   "source": []
  },
  {
   "cell_type": "code",
   "execution_count": 176,
   "id": "4eb176b8",
   "metadata": {},
   "outputs": [
    {
     "name": "stderr",
     "output_type": "stream",
     "text": [
      "C:\\Users\\mm\\anaconda3\\lib\\site-packages\\sklearn\\base.py:329: UserWarning: Trying to unpickle estimator DecisionTreeClassifier from version 1.1.3 when using version 1.0.2. This might lead to breaking code or invalid results. Use at your own risk. For more info please refer to:\n",
      "https://scikit-learn.org/stable/modules/model_persistence.html#security-maintainability-limitations\n",
      "  warnings.warn(\n"
     ]
    }
   ],
   "source": [
    "static_model = Dynamic_model= joblib.load(open('DTC_model', 'rb'))\n",
    "x=y=2"
   ]
  },
  {
   "cell_type": "code",
   "execution_count": 181,
   "id": "65169bb5",
   "metadata": {
    "scrolled": true
   },
   "outputs": [
    {
     "name": "stdout",
     "output_type": "stream",
     "text": [
      "Window 1\n",
      "f1-score of Dynamic Model without retrain = 83.73333333333333%\n",
      "Recall of Dynamic Model without retrain = 98.74213836477988%\n",
      " The model will be trained on the new data\n",
      "f1-score of Dynamic Model after retrain = 83.73333333333333%\n",
      "Recall of Dynamic Model after retrain = 98.74213836477988%\n",
      "f1-score of Static Model = 83.51063829787235%\n",
      "Recall of Static Model = 98.74213836477988%\n",
      "**************************************************\n",
      "Window 2\n"
     ]
    },
    {
     "name": "stderr",
     "output_type": "stream",
     "text": [
      "C:\\Users\\mm\\AppData\\Local\\Temp\\ipykernel_21256\\4131832978.py:9: FutureWarning: The frame.append method is deprecated and will be removed from pandas in a future version. Use pandas.concat instead.\n",
      "  k_dataset=k_dataset.append(new_dataset)\n",
      "C:\\Users\\mm\\AppData\\Local\\Temp\\ipykernel_21256\\4131832978.py:9: FutureWarning: The frame.append method is deprecated and will be removed from pandas in a future version. Use pandas.concat instead.\n",
      "  k_dataset=k_dataset.append(new_dataset)\n"
     ]
    },
    {
     "name": "stdout",
     "output_type": "stream",
     "text": [
      "f1-score of Dynamic Model without retrain = 82.79569892473118%\n",
      "Recall of Dynamic Model without retrain = 95.65217391304348%\n",
      " The model will be trained on the new data\n",
      "f1-score of Dynamic Model after retrain = 82.3529411764706%\n",
      "Recall of Dynamic Model after retrain = 95.65217391304348%\n",
      "f1-score of Static Model = 82.79569892473118%\n",
      "Recall of Static Model = 95.65217391304348%\n",
      "**************************************************\n",
      "Window 3\n",
      "f1-score of Dynamic Model without retrain = 83.06878306878306%\n",
      "Recall of Dynamic Model without retrain = 98.74213836477988%\n",
      " The model will be trained on the new data\n",
      "f1-score of Dynamic Model after retrain = 83.06878306878306%\n",
      "Recall of Dynamic Model after retrain = 98.74213836477988%\n"
     ]
    },
    {
     "name": "stderr",
     "output_type": "stream",
     "text": [
      "C:\\Users\\mm\\AppData\\Local\\Temp\\ipykernel_21256\\4131832978.py:9: FutureWarning: The frame.append method is deprecated and will be removed from pandas in a future version. Use pandas.concat instead.\n",
      "  k_dataset=k_dataset.append(new_dataset)\n"
     ]
    },
    {
     "name": "stdout",
     "output_type": "stream",
     "text": [
      "f1-score of Static Model = 83.06878306878306%\n",
      "Recall of Static Model = 98.74213836477988%\n",
      "**************************************************\n",
      "Window 4\n"
     ]
    },
    {
     "name": "stderr",
     "output_type": "stream",
     "text": [
      "C:\\Users\\mm\\AppData\\Local\\Temp\\ipykernel_21256\\4131832978.py:9: FutureWarning: The frame.append method is deprecated and will be removed from pandas in a future version. Use pandas.concat instead.\n",
      "  k_dataset=k_dataset.append(new_dataset)\n",
      "C:\\Users\\mm\\AppData\\Local\\Temp\\ipykernel_21256\\4131832978.py:9: FutureWarning: The frame.append method is deprecated and will be removed from pandas in a future version. Use pandas.concat instead.\n",
      "  k_dataset=k_dataset.append(new_dataset)\n"
     ]
    },
    {
     "name": "stdout",
     "output_type": "stream",
     "text": [
      "f1-score of Dynamic Model without retrain = 81.42493638676845%\n",
      "Recall of Dynamic Model without retrain = 93.02325581395348%\n",
      " The model will be trained on the new data\n",
      "f1-score of Dynamic Model after retrain = 81.42493638676845%\n",
      "Recall of Dynamic Model after retrain = 93.02325581395348%\n",
      "f1-score of Static Model = 81.42493638676845%\n",
      "Recall of Static Model = 93.02325581395348%\n",
      "**************************************************\n",
      "Window 5\n",
      "f1-score of Dynamic Model without retrain = 85.92233009708738%\n",
      "Recall of Dynamic Model without retrain = 99.43820224719101%\n",
      " The model will be trained on the new data\n",
      "f1-score of Dynamic Model after retrain = 85.92233009708738%\n",
      "Recall of Dynamic Model after retrain = 99.43820224719101%\n",
      "f1-score of Static Model = 85.92233009708738%\n",
      "Recall of Static Model = 99.43820224719101%\n",
      "**************************************************\n",
      "Window 6\n",
      "f1-score of Dynamic Model without retrain = 86.54353562005278%\n",
      "Recall of Dynamic Model without retrain = 100.0%\n",
      " The model will be trained on the new data\n",
      "f1-score of Dynamic Model after retrain = 86.54353562005278%\n",
      "Recall of Dynamic Model after retrain = 100.0%\n",
      "f1-score of Static Model = 86.54353562005278%\n",
      "Recall of Static Model = 100.0%\n",
      "**************************************************\n",
      "Window 7\n"
     ]
    },
    {
     "name": "stderr",
     "output_type": "stream",
     "text": [
      "C:\\Users\\mm\\AppData\\Local\\Temp\\ipykernel_21256\\4131832978.py:9: FutureWarning: The frame.append method is deprecated and will be removed from pandas in a future version. Use pandas.concat instead.\n",
      "  k_dataset=k_dataset.append(new_dataset)\n",
      "C:\\Users\\mm\\AppData\\Local\\Temp\\ipykernel_21256\\4131832978.py:9: FutureWarning: The frame.append method is deprecated and will be removed from pandas in a future version. Use pandas.concat instead.\n",
      "  k_dataset=k_dataset.append(new_dataset)\n"
     ]
    },
    {
     "name": "stdout",
     "output_type": "stream",
     "text": [
      "f1-score of Dynamic Model without retrain = 87.0967741935484%\n",
      "Recall of Dynamic Model without retrain = 100.0%\n",
      " The model will be trained on the new data\n",
      "f1-score of Dynamic Model after retrain = 87.0967741935484%\n",
      "Recall of Dynamic Model after retrain = 100.0%\n",
      "f1-score of Static Model = 87.0967741935484%\n",
      "Recall of Static Model = 100.0%\n",
      "**************************************************\n",
      "Window 8\n",
      "f1-score of Dynamic Model without retrain = 84.12698412698413%\n",
      "Recall of Dynamic Model without retrain = 98.75776397515527%\n",
      " The model will be trained on the new data\n",
      "f1-score of Dynamic Model after retrain = 84.12698412698413%\n",
      "Recall of Dynamic Model after retrain = 98.75776397515527%\n",
      "f1-score of Static Model = 84.12698412698413%\n",
      "Recall of Static Model = 98.75776397515527%\n",
      "**************************************************\n",
      "Window 9\n"
     ]
    },
    {
     "name": "stderr",
     "output_type": "stream",
     "text": [
      "C:\\Users\\mm\\AppData\\Local\\Temp\\ipykernel_21256\\4131832978.py:9: FutureWarning: The frame.append method is deprecated and will be removed from pandas in a future version. Use pandas.concat instead.\n",
      "  k_dataset=k_dataset.append(new_dataset)\n",
      "C:\\Users\\mm\\AppData\\Local\\Temp\\ipykernel_21256\\4131832978.py:9: FutureWarning: The frame.append method is deprecated and will be removed from pandas in a future version. Use pandas.concat instead.\n",
      "  k_dataset=k_dataset.append(new_dataset)\n"
     ]
    },
    {
     "name": "stdout",
     "output_type": "stream",
     "text": [
      "f1-score of Dynamic Model without retrain = 83.55091383812011%\n",
      "Recall of Dynamic Model without retrain = 99.37888198757764%\n",
      " The model will be trained on the new data\n",
      "f1-score of Dynamic Model after retrain = 83.55091383812011%\n",
      "Recall of Dynamic Model after retrain = 99.37888198757764%\n",
      "f1-score of Static Model = 83.33333333333334%\n",
      "Recall of Static Model = 99.37888198757764%\n",
      "**************************************************\n",
      "Window 10\n",
      "f1-score of Dynamic Model without retrain = 83.15217391304347%\n",
      "Recall of Dynamic Model without retrain = 98.07692307692307%\n",
      " The model will be trained on the new data\n"
     ]
    },
    {
     "name": "stderr",
     "output_type": "stream",
     "text": [
      "C:\\Users\\mm\\AppData\\Local\\Temp\\ipykernel_21256\\4131832978.py:9: FutureWarning: The frame.append method is deprecated and will be removed from pandas in a future version. Use pandas.concat instead.\n",
      "  k_dataset=k_dataset.append(new_dataset)\n",
      "C:\\Users\\mm\\AppData\\Local\\Temp\\ipykernel_21256\\4131832978.py:9: FutureWarning: The frame.append method is deprecated and will be removed from pandas in a future version. Use pandas.concat instead.\n",
      "  k_dataset=k_dataset.append(new_dataset)\n"
     ]
    },
    {
     "name": "stdout",
     "output_type": "stream",
     "text": [
      "f1-score of Dynamic Model after retrain = 83.15217391304347%\n",
      "Recall of Dynamic Model after retrain = 98.07692307692307%\n",
      "f1-score of Static Model = 83.15217391304347%\n",
      "Recall of Static Model = 98.07692307692307%\n",
      "**************************************************\n",
      "Window 11\n",
      "f1-score of Dynamic Model without retrain = 85.86387434554975%\n",
      "Recall of Dynamic Model without retrain = 100.0%\n",
      " The model will be trained on the new data\n",
      "f1-score of Dynamic Model after retrain = 75.05720823798626%\n",
      "Recall of Dynamic Model after retrain = 100.0%\n",
      "f1-score of Static Model = 85.86387434554975%\n",
      "Recall of Static Model = 100.0%\n",
      "**************************************************\n",
      "Window 12\n",
      "f1-score of Dynamic Model without retrain = 83.90501319261213%\n",
      "Recall of Dynamic Model without retrain = 98.75776397515527%\n",
      " The model will be trained on the new data\n",
      "f1-score of Dynamic Model after retrain = 83.90501319261213%\n",
      "Recall of Dynamic Model after retrain = 98.75776397515527%\n",
      "f1-score of Static Model = 83.90501319261213%\n",
      "Recall of Static Model = 98.75776397515527%\n",
      "**************************************************\n",
      "Window 13\n"
     ]
    },
    {
     "name": "stderr",
     "output_type": "stream",
     "text": [
      "C:\\Users\\mm\\AppData\\Local\\Temp\\ipykernel_21256\\4131832978.py:9: FutureWarning: The frame.append method is deprecated and will be removed from pandas in a future version. Use pandas.concat instead.\n",
      "  k_dataset=k_dataset.append(new_dataset)\n",
      "C:\\Users\\mm\\AppData\\Local\\Temp\\ipykernel_21256\\4131832978.py:9: FutureWarning: The frame.append method is deprecated and will be removed from pandas in a future version. Use pandas.concat instead.\n",
      "  k_dataset=k_dataset.append(new_dataset)\n"
     ]
    },
    {
     "name": "stdout",
     "output_type": "stream",
     "text": [
      "f1-score of Dynamic Model without retrain = 86.8421052631579%\n",
      "Recall of Dynamic Model without retrain = 99.3975903614458%\n",
      " The model will be trained on the new data\n",
      "f1-score of Dynamic Model after retrain = 86.8421052631579%\n",
      "Recall of Dynamic Model after retrain = 99.3975903614458%\n",
      "f1-score of Static Model = 86.8421052631579%\n",
      "Recall of Static Model = 99.3975903614458%\n",
      "**************************************************\n",
      "Window 14\n",
      "f1-score of Dynamic Model without retrain = 84.38356164383562%\n",
      "Recall of Dynamic Model without retrain = 98.08917197452229%\n",
      " The model will be trained on the new data\n",
      "f1-score of Dynamic Model after retrain = 84.69945355191257%\n",
      "Recall of Dynamic Model after retrain = 98.72611464968153%\n"
     ]
    },
    {
     "name": "stderr",
     "output_type": "stream",
     "text": [
      "C:\\Users\\mm\\AppData\\Local\\Temp\\ipykernel_21256\\4131832978.py:9: FutureWarning: The frame.append method is deprecated and will be removed from pandas in a future version. Use pandas.concat instead.\n",
      "  k_dataset=k_dataset.append(new_dataset)\n",
      "C:\\Users\\mm\\AppData\\Local\\Temp\\ipykernel_21256\\4131832978.py:9: FutureWarning: The frame.append method is deprecated and will be removed from pandas in a future version. Use pandas.concat instead.\n",
      "  k_dataset=k_dataset.append(new_dataset)\n"
     ]
    },
    {
     "name": "stdout",
     "output_type": "stream",
     "text": [
      "f1-score of Static Model = 84.38356164383562%\n",
      "Recall of Static Model = 98.08917197452229%\n",
      "**************************************************\n",
      "Window 15\n",
      "f1-score of Dynamic Model without retrain = 86.68280871670702%\n",
      "Recall of Dynamic Model without retrain = 99.44444444444444%\n",
      " The model will be trained on the new data\n",
      "f1-score of Dynamic Model after retrain = 86.68280871670702%\n",
      "Recall of Dynamic Model after retrain = 99.44444444444444%\n",
      "f1-score of Static Model = 86.68280871670702%\n",
      "Recall of Static Model = 99.44444444444444%\n",
      "**************************************************\n",
      "Window 16\n"
     ]
    },
    {
     "name": "stderr",
     "output_type": "stream",
     "text": [
      "C:\\Users\\mm\\AppData\\Local\\Temp\\ipykernel_21256\\4131832978.py:9: FutureWarning: The frame.append method is deprecated and will be removed from pandas in a future version. Use pandas.concat instead.\n",
      "  k_dataset=k_dataset.append(new_dataset)\n",
      "C:\\Users\\mm\\AppData\\Local\\Temp\\ipykernel_21256\\4131832978.py:9: FutureWarning: The frame.append method is deprecated and will be removed from pandas in a future version. Use pandas.concat instead.\n",
      "  k_dataset=k_dataset.append(new_dataset)\n"
     ]
    },
    {
     "name": "stdout",
     "output_type": "stream",
     "text": [
      "f1-score of Dynamic Model without retrain = 88.77284595300262%\n",
      "Recall of Dynamic Model without retrain = 98.26589595375722%\n",
      " The model will be trained on the new data\n",
      "f1-score of Dynamic Model after retrain = 88.77284595300262%\n",
      "Recall of Dynamic Model after retrain = 98.26589595375722%\n",
      "f1-score of Static Model = 89.06249999999999%\n",
      "Recall of Static Model = 98.84393063583815%\n",
      "**************************************************\n",
      "Window 17\n",
      "f1-score of Dynamic Model without retrain = 88.77005347593582%\n",
      "Recall of Dynamic Model without retrain = 100.0%\n",
      " The model will be trained on the new data\n",
      "f1-score of Dynamic Model after retrain = 88.77005347593582%\n",
      "Recall of Dynamic Model after retrain = 100.0%\n",
      "f1-score of Static Model = 88.77005347593582%\n",
      "Recall of Static Model = 100.0%\n",
      "**************************************************\n",
      "Window 18\n",
      "f1-score of Dynamic Model without retrain = 85.9504132231405%\n",
      "Recall of Dynamic Model without retrain = 100.0%\n",
      " The model will be trained on the new data\n",
      "f1-score of Dynamic Model after retrain = 85.9504132231405%\n",
      "Recall of Dynamic Model after retrain = 100.0%\n",
      "f1-score of Static Model = 85.9504132231405%\n",
      "Recall of Static Model = 100.0%\n",
      "**************************************************\n",
      "Window 19\n"
     ]
    },
    {
     "name": "stderr",
     "output_type": "stream",
     "text": [
      "C:\\Users\\mm\\AppData\\Local\\Temp\\ipykernel_21256\\4131832978.py:9: FutureWarning: The frame.append method is deprecated and will be removed from pandas in a future version. Use pandas.concat instead.\n",
      "  k_dataset=k_dataset.append(new_dataset)\n",
      "C:\\Users\\mm\\AppData\\Local\\Temp\\ipykernel_21256\\4131832978.py:9: FutureWarning: The frame.append method is deprecated and will be removed from pandas in a future version. Use pandas.concat instead.\n",
      "  k_dataset=k_dataset.append(new_dataset)\n"
     ]
    },
    {
     "name": "stdout",
     "output_type": "stream",
     "text": [
      "f1-score of Dynamic Model without retrain = 87.0%\n",
      "Recall of Dynamic Model without retrain = 96.66666666666667%\n",
      " The model will be trained on the new data\n",
      "f1-score of Dynamic Model after retrain = 87.0%\n",
      "Recall of Dynamic Model after retrain = 96.66666666666667%\n",
      "f1-score of Static Model = 87.0%\n",
      "Recall of Static Model = 96.66666666666667%\n",
      "**************************************************\n",
      "Window 20\n",
      "f1-score of Dynamic Model without retrain = 90.10416666666666%\n",
      "Recall of Dynamic Model without retrain = 99.42528735632183%\n"
     ]
    },
    {
     "name": "stderr",
     "output_type": "stream",
     "text": [
      "C:\\Users\\mm\\AppData\\Local\\Temp\\ipykernel_21256\\4131832978.py:9: FutureWarning: The frame.append method is deprecated and will be removed from pandas in a future version. Use pandas.concat instead.\n",
      "  k_dataset=k_dataset.append(new_dataset)\n"
     ]
    }
   ],
   "source": [
    "list_of_f1score_Dynmaic_model=[]\n",
    "list_of_f1score_static_model=[]\n",
    "from sklearn.preprocessing import MinMaxScaler\n",
    "scaler = MinMaxScaler()\n",
    "for itr in range(267):\n",
    "    new_dataset = get_1000_record(itr+1)\n",
    "    new_dataset =  prepare_data(new_dataset)\n",
    "    new_dataset =  data_cleaning(new_dataset)\n",
    "    k_dataset=k_dataset.append(new_dataset)\n",
    "    X_1= new_dataset.iloc[:,:-1]\n",
    "    y= new_dataset.iloc[:,-1]\n",
    "    X = scaler.fit_transform(X_1)\n",
    "    X_train, X_test, y_train, y_test = train_test_split(X, y, test_size=0.3, random_state=42,shuffle=False)\n",
    "    X_train_MI, X_test_MI=select_mutual_info(X_train, y_train, X_test)\n",
    "    model=Dynamic_model.fit(X_train_MI,y_train)\n",
    "    Dy_pred=model.predict(X_test_MI)\n",
    "    D_f1_score=f1_score(y_test,Dy_pred)\n",
    "    D_Recall = recall_score(y_test,Dy_pred)\n",
    "    print(f\"f1-score of Dynamic Model without retrain = {D_f1_score*100}%\")\n",
    "    print(f\"Recall of Dynamic Model without retrain = {D_Recall*100}%\")\n",
    "    \n",
    "    if D_f1_score < 0.89 :\n",
    "\n",
    "        print(\" The model will be trained on the new data\")\n",
    "        Dynamic_model=retrain_model(new_dataset)\n",
    "        Dy_pred=Dynamic_model.predict(X_test_MI)\n",
    "        D_f1_score=f1_score(y_test,Dy_pred)\n",
    "        D_Recall = recall_score(y_test,Dy_pred)\n",
    "        print(f\"f1-score of Dynamic Model after retrain = {D_f1_score*100}%\")\n",
    "        print(f\"Recall of Dynamic Model after retrain = {D_Recall*100}%\")\n",
    "    else:\n",
    "        break\n",
    "    model_S= static_model.fit(X_train_MI,y_train)   \n",
    "    Sy_pred=static_model.predict(X_test_MI)\n",
    "    S_f1_score=f1_score(y_test,Sy_pred)\n",
    "    S_Recall = recall_score(y_test,Sy_pred)\n",
    "    print(f\"f1-score of Static Model = {S_f1_score*100}%\")\n",
    "    print(f\"Recall of Static Model = {S_Recall*100}%\")\n",
    "    list_of_f1score_Dynmaic_model.append(D_f1_score)\n",
    "    list_of_f1score_static_model.append(S_f1_score)\n",
    "    print(f\"{'*'*50}\")"
   ]
  },
  {
   "cell_type": "code",
   "execution_count": 182,
   "id": "115ee234",
   "metadata": {},
   "outputs": [
    {
     "data": {
      "image/png": "[encoded data removed]",
      "text/plain": [
       "<Figure size 432x288 with 1 Axes>"
      ]
     },
     "metadata": {
      "needs_background": "light"
     },
     "output_type": "display_data"
    }
   ],
   "source": [
    "plt.plot(list_of_f1score_Dynmaic_model)\n",
    "plt.plot(list_of_f1score_static_model)\n",
    "plt.title('model performance')\n",
    "plt.xlabel('iterations ')\n",
    "plt.ylabel(\"f1_score\")\n",
    "plt.legend(['Dynamic_model','static_model'],bbox_to_anchor=(1.04,1), loc=\"upper left\")\n",
    "plt.show()"
   ]
  },
  {
   "cell_type": "code",
   "execution_count": 183,
   "id": "8a3765cc",
   "metadata": {},
   "outputs": [
    {
     "data": {
      "text/plain": [
       "[<matplotlib.lines.Line2D at 0x215847bbe50>]"
      ]
     },
     "execution_count": 183,
     "metadata": {},
     "output_type": "execute_result"
    },
    {
     "data": {
      "image/png": "[encoded data removed]",
      "text/plain": [
       "<Figure size 432x288 with 1 Axes>"
      ]
     },
     "metadata": {
      "needs_background": "light"
     },
     "output_type": "display_data"
    }
   ],
   "source": [
    "plt.plot(list_of_f1score_Dynmaic_model)"
   ]
  },
  {
   "cell_type": "code",
   "execution_count": 184,
   "id": "34a45c7e",
   "metadata": {},
   "outputs": [
    {
     "data": {
      "text/plain": [
       "[<matplotlib.lines.Line2D at 0x2158396fb50>]"
      ]
     },
     "execution_count": 184,
     "metadata": {},
     "output_type": "execute_result"
    },
    {
     "data": {
      "image/png": "[encoded data removed]",
      "text/plain": [
       "<Figure size 432x288 with 1 Axes>"
      ]
     },
     "metadata": {
      "needs_background": "light"
     },
     "output_type": "display_data"
    }
   ],
   "source": [
    "plt.plot(list_of_f1score_static_model)"
   ]
  },
  {
   "cell_type": "code",
   "execution_count": null,
   "id": "8eea5555",
   "metadata": {},
   "outputs": [],
   "source": []
  },
  {
   "cell_type": "code",
   "execution_count": null,
   "id": "b5b4a2df",
   "metadata": {},
   "outputs": [],
   "source": []
  }
 ],
 "metadata": {
  "kernelspec": {
   "display_name": "Python 3 (ipykernel)",
   "language": "python",
   "name": "python3"
  },
  "language_info": {
   "codemirror_mode": {
    "name": "ipython",
    "version": 3
   },
   "file_extension": ".py",
   "mimetype": "text/x-python",
   "name": "python",
   "nbconvert_exporter": "python",
   "pygments_lexer": "ipython3",
   "version": "3.9.12"
  }
 },
 "nbformat": 4,
 "nbformat_minor": 5
}
